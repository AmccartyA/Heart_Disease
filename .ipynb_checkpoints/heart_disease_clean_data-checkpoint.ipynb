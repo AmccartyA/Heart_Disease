{
 "cells": [
  {
   "cell_type": "code",
   "execution_count": 1,
   "id": "bdd9010e",
   "metadata": {},
   "outputs": [],
   "source": [
    "# Import the dependencies\n",
    "import os\n",
    "import pandas as pd\n",
    "from pathlib import Path"
   ]
  },
  {
   "cell_type": "code",
   "execution_count": 2,
   "id": "f40feac6",
   "metadata": {},
   "outputs": [],
   "source": [
    "# Import data files\n",
    "heart_attack = pd.read_csv(Path('./Resources/heart.csv'))\n",
    "heart_disease = pd.read_csv(Path('./Resources/hd_by_state.csv'))\n",
    "fast_food = pd.read_csv(Path('./Resources/FastFoodRestaurants.csv'))"
   ]
  },
  {
   "cell_type": "code",
   "execution_count": 3,
   "id": "0bd04dae",
   "metadata": {},
   "outputs": [
    {
     "data": {
      "text/plain": [
       "Age                 int64\n",
       "Sex                object\n",
       "ChestPainType      object\n",
       "RestingBP           int64\n",
       "Cholesterol         int64\n",
       "FastingBS           int64\n",
       "RestingECG         object\n",
       "MaxHR               int64\n",
       "ExerciseAngina     object\n",
       "Oldpeak           float64\n",
       "ST_Slope           object\n",
       "HeartDisease        int64\n",
       "dtype: object"
      ]
     },
     "execution_count": 3,
     "metadata": {},
     "output_type": "execute_result"
    }
   ],
   "source": [
    "# Find Heart Attack Data Types\n",
    "heart_attack.dtypes"
   ]
  },
  {
   "cell_type": "code",
   "execution_count": 4,
   "id": "abeebef1",
   "metadata": {},
   "outputs": [
    {
     "data": {
      "text/plain": [
       "Index(['Age', 'Sex', 'ChestPainType', 'RestingBP', 'Cholesterol', 'FastingBS',\n",
       "       'RestingECG', 'MaxHR', 'ExerciseAngina', 'Oldpeak', 'ST_Slope',\n",
       "       'HeartDisease'],\n",
       "      dtype='object')"
      ]
     },
     "execution_count": 4,
     "metadata": {},
     "output_type": "execute_result"
    }
   ],
   "source": [
    "# Find Heart Attack Column Names\n",
    "heart_attack.columns"
   ]
  },
  {
   "cell_type": "code",
   "execution_count": 5,
   "id": "5e9e9ba3",
   "metadata": {},
   "outputs": [],
   "source": [
    "# Rename Heart Attack Columns\n",
    "heart_attack.rename(columns={'ChestPainType': 'Chest_Pain_Type', 'RestingBP': 'Resting_BP', 'FastingBS': 'Fasting_BS', 'RestingECG': 'Resting_ECG', 'MaxHR': 'Max_HR', 'ExerciseAngina': 'Exercise_Angina', 'Oldpeak': 'Old_Peak', 'HeartDisease': 'Heart_Disease'}, inplace=True)"
   ]
  },
  {
   "cell_type": "code",
   "execution_count": 6,
   "id": "4d74c963",
   "metadata": {},
   "outputs": [
    {
     "data": {
      "text/plain": [
       "Index(['Age', 'Sex', 'Chest_Pain_Type', 'Resting_BP', 'Cholesterol',\n",
       "       'Fasting_BS', 'Resting_ECG', 'Max_HR', 'Exercise_Angina', 'Old_Peak',\n",
       "       'ST_Slope', 'Heart_Disease'],\n",
       "      dtype='object')"
      ]
     },
     "execution_count": 6,
     "metadata": {},
     "output_type": "execute_result"
    }
   ],
   "source": [
    "# Check Heart Attack Columns have been renamed\n",
    "heart_attack.columns"
   ]
  },
  {
   "cell_type": "code",
   "execution_count": 7,
   "id": "60814b8b",
   "metadata": {},
   "outputs": [
    {
     "data": {
      "text/html": [
       "<div>\n",
       "<style scoped>\n",
       "    .dataframe tbody tr th:only-of-type {\n",
       "        vertical-align: middle;\n",
       "    }\n",
       "\n",
       "    .dataframe tbody tr th {\n",
       "        vertical-align: top;\n",
       "    }\n",
       "\n",
       "    .dataframe thead th {\n",
       "        text-align: right;\n",
       "    }\n",
       "</style>\n",
       "<table border=\"1\" class=\"dataframe\">\n",
       "  <thead>\n",
       "    <tr style=\"text-align: right;\">\n",
       "      <th></th>\n",
       "      <th>Age</th>\n",
       "      <th>Sex</th>\n",
       "      <th>Chest_Pain_Type</th>\n",
       "      <th>Resting_BP</th>\n",
       "      <th>Cholesterol</th>\n",
       "      <th>Fasting_BS</th>\n",
       "      <th>Resting_ECG</th>\n",
       "      <th>Max_HR</th>\n",
       "      <th>Exercise_Angina</th>\n",
       "      <th>Old_Peak</th>\n",
       "      <th>ST_Slope</th>\n",
       "      <th>Heart_Disease</th>\n",
       "    </tr>\n",
       "  </thead>\n",
       "  <tbody>\n",
       "    <tr>\n",
       "      <th>0</th>\n",
       "      <td>40</td>\n",
       "      <td>M</td>\n",
       "      <td>ATA</td>\n",
       "      <td>140</td>\n",
       "      <td>289</td>\n",
       "      <td>0</td>\n",
       "      <td>Normal</td>\n",
       "      <td>172</td>\n",
       "      <td>N</td>\n",
       "      <td>0.0</td>\n",
       "      <td>Up</td>\n",
       "      <td>0</td>\n",
       "    </tr>\n",
       "    <tr>\n",
       "      <th>1</th>\n",
       "      <td>49</td>\n",
       "      <td>F</td>\n",
       "      <td>NAP</td>\n",
       "      <td>160</td>\n",
       "      <td>180</td>\n",
       "      <td>0</td>\n",
       "      <td>Normal</td>\n",
       "      <td>156</td>\n",
       "      <td>N</td>\n",
       "      <td>1.0</td>\n",
       "      <td>Flat</td>\n",
       "      <td>1</td>\n",
       "    </tr>\n",
       "    <tr>\n",
       "      <th>2</th>\n",
       "      <td>37</td>\n",
       "      <td>M</td>\n",
       "      <td>ATA</td>\n",
       "      <td>130</td>\n",
       "      <td>283</td>\n",
       "      <td>0</td>\n",
       "      <td>ST</td>\n",
       "      <td>98</td>\n",
       "      <td>N</td>\n",
       "      <td>0.0</td>\n",
       "      <td>Up</td>\n",
       "      <td>0</td>\n",
       "    </tr>\n",
       "    <tr>\n",
       "      <th>3</th>\n",
       "      <td>48</td>\n",
       "      <td>F</td>\n",
       "      <td>ASY</td>\n",
       "      <td>138</td>\n",
       "      <td>214</td>\n",
       "      <td>0</td>\n",
       "      <td>Normal</td>\n",
       "      <td>108</td>\n",
       "      <td>Y</td>\n",
       "      <td>1.5</td>\n",
       "      <td>Flat</td>\n",
       "      <td>1</td>\n",
       "    </tr>\n",
       "    <tr>\n",
       "      <th>4</th>\n",
       "      <td>54</td>\n",
       "      <td>M</td>\n",
       "      <td>NAP</td>\n",
       "      <td>150</td>\n",
       "      <td>195</td>\n",
       "      <td>0</td>\n",
       "      <td>Normal</td>\n",
       "      <td>122</td>\n",
       "      <td>N</td>\n",
       "      <td>0.0</td>\n",
       "      <td>Up</td>\n",
       "      <td>0</td>\n",
       "    </tr>\n",
       "  </tbody>\n",
       "</table>\n",
       "</div>"
      ],
      "text/plain": [
       "   Age Sex Chest_Pain_Type  Resting_BP  Cholesterol  Fasting_BS Resting_ECG  \\\n",
       "0   40   M             ATA         140          289           0      Normal   \n",
       "1   49   F             NAP         160          180           0      Normal   \n",
       "2   37   M             ATA         130          283           0          ST   \n",
       "3   48   F             ASY         138          214           0      Normal   \n",
       "4   54   M             NAP         150          195           0      Normal   \n",
       "\n",
       "   Max_HR Exercise_Angina  Old_Peak ST_Slope  Heart_Disease  \n",
       "0     172               N       0.0       Up              0  \n",
       "1     156               N       1.0     Flat              1  \n",
       "2      98               N       0.0       Up              0  \n",
       "3     108               Y       1.5     Flat              1  \n",
       "4     122               N       0.0       Up              0  "
      ]
     },
     "execution_count": 7,
     "metadata": {},
     "output_type": "execute_result"
    }
   ],
   "source": [
    "# Check Heart Attack DataFrame\n",
    "heart_attack.head()"
   ]
  },
  {
   "cell_type": "code",
   "execution_count": 8,
   "id": "3e4ff9f6",
   "metadata": {},
   "outputs": [
    {
     "data": {
      "text/plain": [
       "YEAR        int64\n",
       "STATE      object\n",
       "RATE      float64\n",
       "DEATHS     object\n",
       "URL        object\n",
       "dtype: object"
      ]
     },
     "execution_count": 8,
     "metadata": {},
     "output_type": "execute_result"
    }
   ],
   "source": [
    "# Check Heart Disease Data Types\n",
    "heart_disease.dtypes"
   ]
  },
  {
   "cell_type": "code",
   "execution_count": 9,
   "id": "319d2542",
   "metadata": {},
   "outputs": [
    {
     "data": {
      "text/plain": [
       "Index(['YEAR', 'STATE', 'RATE', 'DEATHS', 'URL'], dtype='object')"
      ]
     },
     "execution_count": 9,
     "metadata": {},
     "output_type": "execute_result"
    }
   ],
   "source": [
    "# Check Heart Disease Column Names\n",
    "heart_disease.columns"
   ]
  },
  {
   "cell_type": "code",
   "execution_count": 10,
   "id": "aad1748b",
   "metadata": {},
   "outputs": [],
   "source": [
    "# Rename Heart Disease Columns\n",
    "heart_disease.rename(columns={'YEAR' : 'Year', 'STATE' : 'US_State', 'RATE' : 'Rate_of_Heart_Disease', 'DEATHS' : 'Deaths'}, inplace=True)"
   ]
  },
  {
   "cell_type": "code",
   "execution_count": 11,
   "id": "e860b3bf",
   "metadata": {},
   "outputs": [
    {
     "data": {
      "text/plain": [
       "Index(['Year', 'US_State', 'Rate_of_Heart_Disease', 'Deaths', 'URL'], dtype='object')"
      ]
     },
     "execution_count": 11,
     "metadata": {},
     "output_type": "execute_result"
    }
   ],
   "source": [
    "# Check Heart Disease Column Names have been updates\n",
    "heart_disease.columns"
   ]
  },
  {
   "cell_type": "code",
   "execution_count": 12,
   "id": "7b45ca3d",
   "metadata": {},
   "outputs": [],
   "source": [
    "# Drop URL column from DataFrame - it is unnecessary for our purposes\n",
    "heart_disease.drop(columns=['URL'], axis=1, inplace=True)"
   ]
  },
  {
   "cell_type": "code",
   "execution_count": 13,
   "id": "352b247b",
   "metadata": {},
   "outputs": [],
   "source": [
    "heart_disease['Deaths'] = heart_disease['Deaths'].replace(\",\", \"\", regex=True)"
   ]
  },
  {
   "cell_type": "code",
   "execution_count": 14,
   "id": "b0b9b69a",
   "metadata": {},
   "outputs": [
    {
     "data": {
      "text/html": [
       "<div>\n",
       "<style scoped>\n",
       "    .dataframe tbody tr th:only-of-type {\n",
       "        vertical-align: middle;\n",
       "    }\n",
       "\n",
       "    .dataframe tbody tr th {\n",
       "        vertical-align: top;\n",
       "    }\n",
       "\n",
       "    .dataframe thead th {\n",
       "        text-align: right;\n",
       "    }\n",
       "</style>\n",
       "<table border=\"1\" class=\"dataframe\">\n",
       "  <thead>\n",
       "    <tr style=\"text-align: right;\">\n",
       "      <th></th>\n",
       "      <th>Year</th>\n",
       "      <th>US_State</th>\n",
       "      <th>Rate_of_Heart_Disease</th>\n",
       "      <th>Deaths</th>\n",
       "    </tr>\n",
       "  </thead>\n",
       "  <tbody>\n",
       "    <tr>\n",
       "      <th>0</th>\n",
       "      <td>2020</td>\n",
       "      <td>AL</td>\n",
       "      <td>237.5</td>\n",
       "      <td>14739</td>\n",
       "    </tr>\n",
       "    <tr>\n",
       "      <th>1</th>\n",
       "      <td>2020</td>\n",
       "      <td>AK</td>\n",
       "      <td>139.8</td>\n",
       "      <td>915</td>\n",
       "    </tr>\n",
       "    <tr>\n",
       "      <th>2</th>\n",
       "      <td>2020</td>\n",
       "      <td>AZ</td>\n",
       "      <td>144.8</td>\n",
       "      <td>14196</td>\n",
       "    </tr>\n",
       "    <tr>\n",
       "      <th>3</th>\n",
       "      <td>2020</td>\n",
       "      <td>AR</td>\n",
       "      <td>222.5</td>\n",
       "      <td>8621</td>\n",
       "    </tr>\n",
       "    <tr>\n",
       "      <th>4</th>\n",
       "      <td>2020</td>\n",
       "      <td>CA</td>\n",
       "      <td>144.0</td>\n",
       "      <td>66538</td>\n",
       "    </tr>\n",
       "    <tr>\n",
       "      <th>...</th>\n",
       "      <td>...</td>\n",
       "      <td>...</td>\n",
       "      <td>...</td>\n",
       "      <td>...</td>\n",
       "    </tr>\n",
       "    <tr>\n",
       "      <th>395</th>\n",
       "      <td>2005</td>\n",
       "      <td>VA</td>\n",
       "      <td>203.0</td>\n",
       "      <td>14192</td>\n",
       "    </tr>\n",
       "    <tr>\n",
       "      <th>396</th>\n",
       "      <td>2005</td>\n",
       "      <td>WA</td>\n",
       "      <td>180.5</td>\n",
       "      <td>10985</td>\n",
       "    </tr>\n",
       "    <tr>\n",
       "      <th>397</th>\n",
       "      <td>2005</td>\n",
       "      <td>WV</td>\n",
       "      <td>253.6</td>\n",
       "      <td>5538</td>\n",
       "    </tr>\n",
       "    <tr>\n",
       "      <th>398</th>\n",
       "      <td>2005</td>\n",
       "      <td>WI</td>\n",
       "      <td>190.6</td>\n",
       "      <td>11842</td>\n",
       "    </tr>\n",
       "    <tr>\n",
       "      <th>399</th>\n",
       "      <td>2005</td>\n",
       "      <td>WY</td>\n",
       "      <td>188.3</td>\n",
       "      <td>952</td>\n",
       "    </tr>\n",
       "  </tbody>\n",
       "</table>\n",
       "<p>400 rows × 4 columns</p>\n",
       "</div>"
      ],
      "text/plain": [
       "     Year US_State  Rate_of_Heart_Disease Deaths\n",
       "0    2020       AL                  237.5  14739\n",
       "1    2020       AK                  139.8    915\n",
       "2    2020       AZ                  144.8  14196\n",
       "3    2020       AR                  222.5   8621\n",
       "4    2020       CA                  144.0  66538\n",
       "..    ...      ...                    ...    ...\n",
       "395  2005       VA                  203.0  14192\n",
       "396  2005       WA                  180.5  10985\n",
       "397  2005       WV                  253.6   5538\n",
       "398  2005       WI                  190.6  11842\n",
       "399  2005       WY                  188.3    952\n",
       "\n",
       "[400 rows x 4 columns]"
      ]
     },
     "execution_count": 14,
     "metadata": {},
     "output_type": "execute_result"
    }
   ],
   "source": [
    "heart_disease"
   ]
  },
  {
   "cell_type": "code",
   "execution_count": 15,
   "id": "66d62467",
   "metadata": {},
   "outputs": [
    {
     "data": {
      "text/plain": [
       "index           int64\n",
       "address        object\n",
       "city           object\n",
       "country        object\n",
       "keys           object\n",
       "latitude      float64\n",
       "longitude     float64\n",
       "name           object\n",
       "postalCode     object\n",
       "province       object\n",
       "websites       object\n",
       "dtype: object"
      ]
     },
     "execution_count": 15,
     "metadata": {},
     "output_type": "execute_result"
    }
   ],
   "source": [
    "# Check Fast Food Data Types\n",
    "fast_food.dtypes"
   ]
  },
  {
   "cell_type": "code",
   "execution_count": 16,
   "id": "534ba92c",
   "metadata": {},
   "outputs": [
    {
     "data": {
      "text/plain": [
       "Index(['index', 'address', 'city', 'country', 'keys', 'latitude', 'longitude',\n",
       "       'name', 'postalCode', 'province', 'websites'],\n",
       "      dtype='object')"
      ]
     },
     "execution_count": 16,
     "metadata": {},
     "output_type": "execute_result"
    }
   ],
   "source": [
    "# Check names of Fast Food Columns\n",
    "fast_food.columns"
   ]
  },
  {
   "cell_type": "code",
   "execution_count": 17,
   "id": "3e6db96a",
   "metadata": {},
   "outputs": [],
   "source": [
    "# Rename Fast Food Columns\n",
    "fast_food.rename(columns={'index': 'Restaurant_Number', 'address': 'Address', 'city': 'City', 'latitude': 'Latitude', 'longitude': 'Longitude',\n",
    "       'name': 'Name_of_Restaurant', 'postalCode': 'Zip_Code', 'province': 'US_State'}, inplace=True)"
   ]
  },
  {
   "cell_type": "code",
   "execution_count": 18,
   "id": "9d17b4f8",
   "metadata": {},
   "outputs": [
    {
     "data": {
      "text/plain": [
       "Index(['Restaurant_Number', 'Address', 'City', 'country', 'keys', 'Latitude',\n",
       "       'Longitude', 'Name_of_Restaurant', 'Zip_Code', 'US_State', 'websites'],\n",
       "      dtype='object')"
      ]
     },
     "execution_count": 18,
     "metadata": {},
     "output_type": "execute_result"
    }
   ],
   "source": [
    "# Check names of Fast Food Columns have been updated\n",
    "fast_food.columns"
   ]
  },
  {
   "cell_type": "code",
   "execution_count": 19,
   "id": "390f736f",
   "metadata": {},
   "outputs": [
    {
     "data": {
      "text/plain": [
       "Restaurant_Number     10000\n",
       "Address                9934\n",
       "City                   2775\n",
       "country                   1\n",
       "keys                  10000\n",
       "Latitude               9935\n",
       "Longitude              9956\n",
       "Name_of_Restaurant      548\n",
       "Zip_Code               5289\n",
       "US_State                 52\n",
       "websites               3821\n",
       "dtype: int64"
      ]
     },
     "execution_count": 19,
     "metadata": {},
     "output_type": "execute_result"
    }
   ],
   "source": [
    "# Check to see if there is more than one country in country column, otherwise, drop with other columns\n",
    "fast_food.nunique()"
   ]
  },
  {
   "cell_type": "code",
   "execution_count": 20,
   "id": "e92f5bf0",
   "metadata": {},
   "outputs": [],
   "source": [
    "# Drop 'websites' and 'keys' columns - unnecessary information for our purposes\n",
    "# Drop 'country' column as there is only one country (US), so it is unnecessary\n",
    "fast_food.drop(columns=['websites', 'keys', 'country'], axis=1, inplace=True)"
   ]
  },
  {
   "cell_type": "code",
   "execution_count": 21,
   "id": "7520aa89",
   "metadata": {},
   "outputs": [
    {
     "data": {
      "text/html": [
       "<div>\n",
       "<style scoped>\n",
       "    .dataframe tbody tr th:only-of-type {\n",
       "        vertical-align: middle;\n",
       "    }\n",
       "\n",
       "    .dataframe tbody tr th {\n",
       "        vertical-align: top;\n",
       "    }\n",
       "\n",
       "    .dataframe thead th {\n",
       "        text-align: right;\n",
       "    }\n",
       "</style>\n",
       "<table border=\"1\" class=\"dataframe\">\n",
       "  <thead>\n",
       "    <tr style=\"text-align: right;\">\n",
       "      <th></th>\n",
       "      <th>Restaurant_Number</th>\n",
       "      <th>Address</th>\n",
       "      <th>City</th>\n",
       "      <th>Latitude</th>\n",
       "      <th>Longitude</th>\n",
       "      <th>Name_of_Restaurant</th>\n",
       "      <th>Zip_Code</th>\n",
       "      <th>US_State</th>\n",
       "    </tr>\n",
       "  </thead>\n",
       "  <tbody>\n",
       "    <tr>\n",
       "      <th>0</th>\n",
       "      <td>0</td>\n",
       "      <td>324 Main St</td>\n",
       "      <td>Massena</td>\n",
       "      <td>44.92130</td>\n",
       "      <td>-74.89021</td>\n",
       "      <td>McDonald's</td>\n",
       "      <td>13662</td>\n",
       "      <td>NY</td>\n",
       "    </tr>\n",
       "    <tr>\n",
       "      <th>1</th>\n",
       "      <td>1</td>\n",
       "      <td>530 Clinton Ave</td>\n",
       "      <td>Washington Court House</td>\n",
       "      <td>39.53255</td>\n",
       "      <td>-83.44526</td>\n",
       "      <td>Wendy's</td>\n",
       "      <td>43160</td>\n",
       "      <td>OH</td>\n",
       "    </tr>\n",
       "    <tr>\n",
       "      <th>2</th>\n",
       "      <td>2</td>\n",
       "      <td>408 Market Square Dr</td>\n",
       "      <td>Maysville</td>\n",
       "      <td>38.62736</td>\n",
       "      <td>-83.79141</td>\n",
       "      <td>Frisch's Big Boy</td>\n",
       "      <td>41056</td>\n",
       "      <td>KY</td>\n",
       "    </tr>\n",
       "    <tr>\n",
       "      <th>3</th>\n",
       "      <td>3</td>\n",
       "      <td>6098 State Highway 37</td>\n",
       "      <td>Massena</td>\n",
       "      <td>44.95008</td>\n",
       "      <td>-74.84553</td>\n",
       "      <td>McDonald's</td>\n",
       "      <td>13662</td>\n",
       "      <td>NY</td>\n",
       "    </tr>\n",
       "    <tr>\n",
       "      <th>4</th>\n",
       "      <td>4</td>\n",
       "      <td>139 Columbus Rd</td>\n",
       "      <td>Athens</td>\n",
       "      <td>39.35155</td>\n",
       "      <td>-82.09728</td>\n",
       "      <td>OMG! Rotisserie</td>\n",
       "      <td>45701</td>\n",
       "      <td>OH</td>\n",
       "    </tr>\n",
       "  </tbody>\n",
       "</table>\n",
       "</div>"
      ],
      "text/plain": [
       "   Restaurant_Number                Address                    City  Latitude  \\\n",
       "0                  0            324 Main St                 Massena  44.92130   \n",
       "1                  1        530 Clinton Ave  Washington Court House  39.53255   \n",
       "2                  2   408 Market Square Dr               Maysville  38.62736   \n",
       "3                  3  6098 State Highway 37                 Massena  44.95008   \n",
       "4                  4        139 Columbus Rd                  Athens  39.35155   \n",
       "\n",
       "   Longitude Name_of_Restaurant Zip_Code US_State  \n",
       "0  -74.89021         McDonald's    13662       NY  \n",
       "1  -83.44526            Wendy's    43160       OH  \n",
       "2  -83.79141   Frisch's Big Boy    41056       KY  \n",
       "3  -74.84553         McDonald's    13662       NY  \n",
       "4  -82.09728    OMG! Rotisserie    45701       OH  "
      ]
     },
     "execution_count": 21,
     "metadata": {},
     "output_type": "execute_result"
    }
   ],
   "source": [
    "fast_food.head()"
   ]
  },
  {
   "cell_type": "code",
   "execution_count": 22,
   "id": "635fb6cd",
   "metadata": {},
   "outputs": [],
   "source": [
    "fast_food.to_csv(Path('./Resources/clean_fast_food.csv'), index=False)"
   ]
  },
  {
   "cell_type": "code",
   "execution_count": 23,
   "id": "b0318f74",
   "metadata": {},
   "outputs": [],
   "source": [
    "heart_disease.to_csv(Path('./Resources/clean_heart_disease.csv'))"
   ]
  },
  {
   "cell_type": "code",
   "execution_count": 24,
   "id": "b9c52e79",
   "metadata": {},
   "outputs": [],
   "source": [
    "heart_attack.to_csv(Path('./Resources/clean_heart_attack.csv'))"
   ]
  },
  {
   "cell_type": "code",
   "execution_count": null,
   "id": "207dd054",
   "metadata": {},
   "outputs": [],
   "source": []
  }
 ],
 "metadata": {
  "kernelspec": {
   "display_name": "mlenv",
   "language": "python",
   "name": "mlenv"
  },
  "language_info": {
   "codemirror_mode": {
    "name": "ipython",
    "version": 3
   },
   "file_extension": ".py",
   "mimetype": "text/x-python",
   "name": "python",
   "nbconvert_exporter": "python",
   "pygments_lexer": "ipython3",
   "version": "3.7.13"
  }
 },
 "nbformat": 4,
 "nbformat_minor": 5
}
